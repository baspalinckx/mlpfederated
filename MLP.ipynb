{
 "cells": [
  {
   "cell_type": "code",
   "execution_count": 1,
   "id": "floating-offense",
   "metadata": {},
   "outputs": [],
   "source": [
    "import numpy as np\n",
    "import pandas as pd\n",
    "import tensorflow as tf\n",
    "from matplotlib import pyplot\n",
    "from tensorflow.keras import Model\n",
    "from tensorflow.keras import Sequential\n",
    "from tensorflow.keras.models import Sequential, Model\n",
    "from tensorflow.keras.layers import Conv2D, Input, Dropout, Activation, Dense, MaxPooling2D, Flatten, GlobalAveragePooling2D\n",
    "from tensorflow.keras.optimizers import Adadelta\n",
    "from tensorflow.keras.callbacks import ModelCheckpoint\n",
    "from tensorflow.keras.layers import Dense\n",
    "from tensorflow.keras.layers import LSTM\n",
    "import sklearn\n",
    "from sklearn.preprocessing import MinMaxScaler"
   ]
  },
  {
   "cell_type": "code",
   "execution_count": 2,
   "id": "better-permit",
   "metadata": {},
   "outputs": [],
   "source": [
    "filepath = \"iot23_combined.csv\"\n",
    "#df = pd.read_csv(filepath)\n",
    "# df = pd.read_csv(r\"C:\\Users\\Bas-Study\\data\\iot23_com\\iot23_combined2.csv\")\n",
    "df = pd.read_csv(r\"C:\\Users\\Bas-Study\\data\\df_combined.csv\")"
   ]
  },
  {
   "cell_type": "code",
   "execution_count": 3,
   "id": "initial-biotechnology",
   "metadata": {},
   "outputs": [
    {
     "data": {
      "text/plain": [
       "Index(['Unnamed: 0', 'ts', 'id.orig_h', 'id.orig_p', 'id.resp_h', 'id.resp_p',\n",
       "       'duration', 'orig_bytes', 'resp_bytes', 'history', 'orig_pkts',\n",
       "       'orig_ip_bytes', 'resp_pkts', 'resp_ip_bytes', 'label', 'proto_icmp',\n",
       "       'proto_tcp', 'proto_udp', 'conn_state_OTH', 'conn_state_REJ',\n",
       "       'conn_state_RSTO', 'conn_state_RSTOS0', 'conn_state_RSTR',\n",
       "       'conn_state_RSTRH', 'conn_state_S0', 'conn_state_S1', 'conn_state_S2',\n",
       "       'conn_state_S3', 'conn_state_SF', 'conn_state_SH', 'conn_state_SHR',\n",
       "       'service_-', 'service_dhcp', 'service_dns', 'service_http',\n",
       "       'service_irc', 'service_ssh', 'service_ssl'],\n",
       "      dtype='object')"
      ]
     },
     "execution_count": 3,
     "metadata": {},
     "output_type": "execute_result"
    }
   ],
   "source": [
    "df.columns"
   ]
  },
  {
   "cell_type": "code",
   "execution_count": 4,
   "id": "paperback-heritage",
   "metadata": {},
   "outputs": [
    {
     "data": {
      "text/plain": [
       "Okiru     262690\n",
       "Benign    199756\n",
       "DDoS      138777\n",
       "C&C        15100\n",
       "Name: label, dtype: int64"
      ]
     },
     "execution_count": 4,
     "metadata": {},
     "output_type": "execute_result"
    }
   ],
   "source": [
    "# del df['Unnamed: 0']\n",
    "df.loc[(df.label == '-   Benign   -'), 'label'] = 'Benign'\n",
    "df['label'].value_counts()\n",
    "def drop_columns(df, columns):\n",
    "    temp = df.copy()\n",
    "    for column in columns:\n",
    "        temp = temp[temp['label'] != column]\n",
    "    return temp\n",
    "\n",
    "columns_to_drop = [\n",
    "                    \"Attack\",\n",
    "                    \"C&C-HeartBeat\",\n",
    "                    \"C&C-FileDownload\",\n",
    "                    \"C&C-Torii\",\n",
    "                    \"FileDownload\",\n",
    "                    \"C&C-HeartBeat-FileDownload\",\n",
    "                    \"C&C-Mirai\",\n",
    "                    \"PartOfAHorizontalPortScan\"]\n",
    "\n",
    "df = drop_columns(df, columns_to_drop)\n",
    "df['label'].value_counts()"
   ]
  },
  {
   "cell_type": "code",
   "execution_count": 5,
   "id": "inside-north",
   "metadata": {},
   "outputs": [
    {
     "data": {
      "text/plain": [
       "Okiru     262690\n",
       "Benign    199756\n",
       "DDoS      138777\n",
       "C&C        15100\n",
       "Name: label, dtype: int64"
      ]
     },
     "execution_count": 5,
     "metadata": {},
     "output_type": "execute_result"
    }
   ],
   "source": [
    "df['label'].value_counts()"
   ]
  },
  {
   "cell_type": "code",
   "execution_count": 6,
   "id": "average-mechanics",
   "metadata": {},
   "outputs": [],
   "source": [
    "from sklearn.model_selection import train_test_split"
   ]
  },
  {
   "cell_type": "code",
   "execution_count": 7,
   "id": "caf84f38",
   "metadata": {},
   "outputs": [],
   "source": [
    "X = df[['duration', 'orig_bytes', 'resp_bytes', 'orig_pkts', 'orig_ip_bytes', 'resp_pkts', 'resp_ip_bytes', 'proto_icmp', 'proto_tcp', 'proto_udp', 'conn_state_OTH', 'conn_state_REJ', 'conn_state_RSTO', 'conn_state_RSTOS0', 'conn_state_RSTR', 'conn_state_RSTRH', 'conn_state_S0', 'conn_state_S1', 'conn_state_S2', 'conn_state_S3', 'conn_state_SF', 'conn_state_SH', 'conn_state_SHR']]"
   ]
  },
  {
   "cell_type": "code",
   "execution_count": 56,
   "id": "steady-hotel",
   "metadata": {},
   "outputs": [],
   "source": [
    "#X = df[['duration', 'orig_bytes', 'resp_bytes', 'missed_bytes', 'orig_pkts', 'orig_ip_bytes', 'resp_pkts', 'resp_ip_bytes', 'proto_icmp', 'proto_tcp', 'proto_udp', 'conn_state_OTH', 'conn_state_REJ', 'conn_state_RSTO', 'conn_state_RSTOS0', 'conn_state_RSTR', 'conn_state_RSTRH', 'conn_state_S0', 'conn_state_S1', 'conn_state_S2', 'conn_state_S3', 'conn_state_SF', 'conn_state_SH', 'conn_state_SHR']]\n",
    "X = df[['Unnamed: 0', 'ts','id.orig_p',\n",
    "       'duration', 'orig_bytes', 'resp_bytes', 'orig_pkts',\n",
    "       'orig_ip_bytes', 'resp_pkts', 'resp_ip_bytes', 'proto_icmp',\n",
    "       'proto_tcp', 'proto_udp', 'conn_state_OTH', 'conn_state_REJ',\n",
    "       'conn_state_RSTO', 'conn_state_RSTOS0', 'conn_state_RSTR',\n",
    "       'conn_state_RSTRH', 'conn_state_S0', 'conn_state_S1', 'conn_state_S2',\n",
    "       'conn_state_S3', 'conn_state_SF', 'conn_state_SH', 'conn_state_SHR',\n",
    "       'service_-', 'service_dhcp', 'service_dns', 'service_http',\n",
    "       'service_irc', 'service_ssh', 'service_ssl']]\n",
    "# X.columns"
   ]
  },
  {
   "cell_type": "code",
   "execution_count": 57,
   "id": "cloudy-press",
   "metadata": {},
   "outputs": [
    {
     "data": {
      "text/plain": [
       "(616323, 33)"
      ]
     },
     "execution_count": 57,
     "metadata": {},
     "output_type": "execute_result"
    }
   ],
   "source": [
    "X.shape"
   ]
  },
  {
   "cell_type": "code",
   "execution_count": 58,
   "id": "published-store",
   "metadata": {},
   "outputs": [],
   "source": [
    "Y = pd.get_dummies(df['label']).values"
   ]
  },
  {
   "cell_type": "code",
   "execution_count": 59,
   "id": "hearing-arena",
   "metadata": {},
   "outputs": [
    {
     "data": {
      "text/plain": [
       "(616323, 4)"
      ]
     },
     "execution_count": 59,
     "metadata": {},
     "output_type": "execute_result"
    }
   ],
   "source": [
    "Y.shape"
   ]
  },
  {
   "cell_type": "code",
   "execution_count": 11,
   "id": "acoustic-courtesy",
   "metadata": {},
   "outputs": [],
   "source": [
    "#X = df[['duration', 'orig_bytes', 'resp_bytes', 'missed_bytes', 'orig_pkts', 'orig_ip_bytes', 'resp_pkts', 'resp_ip_bytes', 'proto_icmp', 'proto_tcp', 'proto_udp', 'conn_state_OTH', 'conn_state_REJ', 'conn_state_RSTO', 'conn_state_RSTOS0', 'conn_state_RSTR', 'conn_state_RSTRH', 'conn_state_S0', 'conn_state_S1', 'conn_state_S2', 'conn_state_S3', 'conn_state_SF', 'conn_state_SH', 'conn_state_SHR']]\n",
    "#Y = df[['label']]"
   ]
  },
  {
   "cell_type": "code",
   "execution_count": 60,
   "id": "elder-creator",
   "metadata": {},
   "outputs": [
    {
     "data": {
      "text/html": [
       "<div>\n",
       "<style scoped>\n",
       "    .dataframe tbody tr th:only-of-type {\n",
       "        vertical-align: middle;\n",
       "    }\n",
       "\n",
       "    .dataframe tbody tr th {\n",
       "        vertical-align: top;\n",
       "    }\n",
       "\n",
       "    .dataframe thead th {\n",
       "        text-align: right;\n",
       "    }\n",
       "</style>\n",
       "<table border=\"1\" class=\"dataframe\">\n",
       "  <thead>\n",
       "    <tr style=\"text-align: right;\">\n",
       "      <th></th>\n",
       "      <th>Unnamed: 0</th>\n",
       "      <th>ts</th>\n",
       "      <th>id.orig_p</th>\n",
       "      <th>duration</th>\n",
       "      <th>orig_bytes</th>\n",
       "      <th>resp_bytes</th>\n",
       "      <th>orig_pkts</th>\n",
       "      <th>orig_ip_bytes</th>\n",
       "      <th>resp_pkts</th>\n",
       "      <th>resp_ip_bytes</th>\n",
       "      <th>...</th>\n",
       "      <th>conn_state_SF</th>\n",
       "      <th>conn_state_SH</th>\n",
       "      <th>conn_state_SHR</th>\n",
       "      <th>service_-</th>\n",
       "      <th>service_dhcp</th>\n",
       "      <th>service_dns</th>\n",
       "      <th>service_http</th>\n",
       "      <th>service_irc</th>\n",
       "      <th>service_ssh</th>\n",
       "      <th>service_ssl</th>\n",
       "    </tr>\n",
       "  </thead>\n",
       "  <tbody>\n",
       "    <tr>\n",
       "      <th>3</th>\n",
       "      <td>3</td>\n",
       "      <td>1.525880e+09</td>\n",
       "      <td>34243.0</td>\n",
       "      <td>2.998804</td>\n",
       "      <td>0.0</td>\n",
       "      <td>0.0</td>\n",
       "      <td>3.0</td>\n",
       "      <td>180.0</td>\n",
       "      <td>0.0</td>\n",
       "      <td>0.0</td>\n",
       "      <td>...</td>\n",
       "      <td>0</td>\n",
       "      <td>0</td>\n",
       "      <td>0</td>\n",
       "      <td>1</td>\n",
       "      <td>0</td>\n",
       "      <td>0</td>\n",
       "      <td>0</td>\n",
       "      <td>0</td>\n",
       "      <td>0</td>\n",
       "      <td>0</td>\n",
       "    </tr>\n",
       "    <tr>\n",
       "      <th>4</th>\n",
       "      <td>4</td>\n",
       "      <td>1.525880e+09</td>\n",
       "      <td>34840.0</td>\n",
       "      <td>0.000000</td>\n",
       "      <td>0.0</td>\n",
       "      <td>0.0</td>\n",
       "      <td>1.0</td>\n",
       "      <td>60.0</td>\n",
       "      <td>0.0</td>\n",
       "      <td>0.0</td>\n",
       "      <td>...</td>\n",
       "      <td>0</td>\n",
       "      <td>0</td>\n",
       "      <td>0</td>\n",
       "      <td>1</td>\n",
       "      <td>0</td>\n",
       "      <td>0</td>\n",
       "      <td>0</td>\n",
       "      <td>0</td>\n",
       "      <td>0</td>\n",
       "      <td>0</td>\n",
       "    </tr>\n",
       "    <tr>\n",
       "      <th>14</th>\n",
       "      <td>14</td>\n",
       "      <td>1.525880e+09</td>\n",
       "      <td>34243.0</td>\n",
       "      <td>0.000000</td>\n",
       "      <td>0.0</td>\n",
       "      <td>0.0</td>\n",
       "      <td>1.0</td>\n",
       "      <td>60.0</td>\n",
       "      <td>0.0</td>\n",
       "      <td>0.0</td>\n",
       "      <td>...</td>\n",
       "      <td>0</td>\n",
       "      <td>0</td>\n",
       "      <td>0</td>\n",
       "      <td>1</td>\n",
       "      <td>0</td>\n",
       "      <td>0</td>\n",
       "      <td>0</td>\n",
       "      <td>0</td>\n",
       "      <td>0</td>\n",
       "      <td>0</td>\n",
       "    </tr>\n",
       "    <tr>\n",
       "      <th>27</th>\n",
       "      <td>27</td>\n",
       "      <td>1.525880e+09</td>\n",
       "      <td>34243.0</td>\n",
       "      <td>0.000000</td>\n",
       "      <td>0.0</td>\n",
       "      <td>0.0</td>\n",
       "      <td>1.0</td>\n",
       "      <td>60.0</td>\n",
       "      <td>0.0</td>\n",
       "      <td>0.0</td>\n",
       "      <td>...</td>\n",
       "      <td>0</td>\n",
       "      <td>0</td>\n",
       "      <td>0</td>\n",
       "      <td>1</td>\n",
       "      <td>0</td>\n",
       "      <td>0</td>\n",
       "      <td>0</td>\n",
       "      <td>0</td>\n",
       "      <td>0</td>\n",
       "      <td>0</td>\n",
       "    </tr>\n",
       "    <tr>\n",
       "      <th>44</th>\n",
       "      <td>44</td>\n",
       "      <td>1.525880e+09</td>\n",
       "      <td>33685.0</td>\n",
       "      <td>2.998560</td>\n",
       "      <td>0.0</td>\n",
       "      <td>0.0</td>\n",
       "      <td>3.0</td>\n",
       "      <td>180.0</td>\n",
       "      <td>0.0</td>\n",
       "      <td>0.0</td>\n",
       "      <td>...</td>\n",
       "      <td>0</td>\n",
       "      <td>0</td>\n",
       "      <td>0</td>\n",
       "      <td>1</td>\n",
       "      <td>0</td>\n",
       "      <td>0</td>\n",
       "      <td>0</td>\n",
       "      <td>0</td>\n",
       "      <td>0</td>\n",
       "      <td>0</td>\n",
       "    </tr>\n",
       "    <tr>\n",
       "      <th>...</th>\n",
       "      <td>...</td>\n",
       "      <td>...</td>\n",
       "      <td>...</td>\n",
       "      <td>...</td>\n",
       "      <td>...</td>\n",
       "      <td>...</td>\n",
       "      <td>...</td>\n",
       "      <td>...</td>\n",
       "      <td>...</td>\n",
       "      <td>...</td>\n",
       "      <td>...</td>\n",
       "      <td>...</td>\n",
       "      <td>...</td>\n",
       "      <td>...</td>\n",
       "      <td>...</td>\n",
       "      <td>...</td>\n",
       "      <td>...</td>\n",
       "      <td>...</td>\n",
       "      <td>...</td>\n",
       "      <td>...</td>\n",
       "      <td>...</td>\n",
       "    </tr>\n",
       "    <tr>\n",
       "      <th>1446616</th>\n",
       "      <td>122</td>\n",
       "      <td>1.562165e+09</td>\n",
       "      <td>68.0</td>\n",
       "      <td>-1.000000</td>\n",
       "      <td>-1.0</td>\n",
       "      <td>-1.0</td>\n",
       "      <td>11.0</td>\n",
       "      <td>3608.0</td>\n",
       "      <td>0.0</td>\n",
       "      <td>0.0</td>\n",
       "      <td>...</td>\n",
       "      <td>0</td>\n",
       "      <td>0</td>\n",
       "      <td>0</td>\n",
       "      <td>0</td>\n",
       "      <td>1</td>\n",
       "      <td>0</td>\n",
       "      <td>0</td>\n",
       "      <td>0</td>\n",
       "      <td>0</td>\n",
       "      <td>0</td>\n",
       "    </tr>\n",
       "    <tr>\n",
       "      <th>1446617</th>\n",
       "      <td>123</td>\n",
       "      <td>1.562165e+09</td>\n",
       "      <td>143.0</td>\n",
       "      <td>-1.000000</td>\n",
       "      <td>-1.0</td>\n",
       "      <td>-1.0</td>\n",
       "      <td>9.0</td>\n",
       "      <td>844.0</td>\n",
       "      <td>0.0</td>\n",
       "      <td>0.0</td>\n",
       "      <td>...</td>\n",
       "      <td>0</td>\n",
       "      <td>0</td>\n",
       "      <td>0</td>\n",
       "      <td>1</td>\n",
       "      <td>0</td>\n",
       "      <td>0</td>\n",
       "      <td>0</td>\n",
       "      <td>0</td>\n",
       "      <td>0</td>\n",
       "      <td>0</td>\n",
       "    </tr>\n",
       "    <tr>\n",
       "      <th>1446618</th>\n",
       "      <td>124</td>\n",
       "      <td>1.562165e+09</td>\n",
       "      <td>135.0</td>\n",
       "      <td>-1.000000</td>\n",
       "      <td>-1.0</td>\n",
       "      <td>-1.0</td>\n",
       "      <td>3.0</td>\n",
       "      <td>216.0</td>\n",
       "      <td>0.0</td>\n",
       "      <td>0.0</td>\n",
       "      <td>...</td>\n",
       "      <td>0</td>\n",
       "      <td>0</td>\n",
       "      <td>0</td>\n",
       "      <td>1</td>\n",
       "      <td>0</td>\n",
       "      <td>0</td>\n",
       "      <td>0</td>\n",
       "      <td>0</td>\n",
       "      <td>0</td>\n",
       "      <td>0</td>\n",
       "    </tr>\n",
       "    <tr>\n",
       "      <th>1446619</th>\n",
       "      <td>125</td>\n",
       "      <td>1.562165e+09</td>\n",
       "      <td>143.0</td>\n",
       "      <td>-1.000000</td>\n",
       "      <td>-1.0</td>\n",
       "      <td>-1.0</td>\n",
       "      <td>8.0</td>\n",
       "      <td>648.0</td>\n",
       "      <td>0.0</td>\n",
       "      <td>0.0</td>\n",
       "      <td>...</td>\n",
       "      <td>0</td>\n",
       "      <td>0</td>\n",
       "      <td>0</td>\n",
       "      <td>1</td>\n",
       "      <td>0</td>\n",
       "      <td>0</td>\n",
       "      <td>0</td>\n",
       "      <td>0</td>\n",
       "      <td>0</td>\n",
       "      <td>0</td>\n",
       "    </tr>\n",
       "    <tr>\n",
       "      <th>1446620</th>\n",
       "      <td>126</td>\n",
       "      <td>1.562165e+09</td>\n",
       "      <td>133.0</td>\n",
       "      <td>-1.000000</td>\n",
       "      <td>-1.0</td>\n",
       "      <td>-1.0</td>\n",
       "      <td>2.0</td>\n",
       "      <td>96.0</td>\n",
       "      <td>0.0</td>\n",
       "      <td>0.0</td>\n",
       "      <td>...</td>\n",
       "      <td>0</td>\n",
       "      <td>0</td>\n",
       "      <td>0</td>\n",
       "      <td>1</td>\n",
       "      <td>0</td>\n",
       "      <td>0</td>\n",
       "      <td>0</td>\n",
       "      <td>0</td>\n",
       "      <td>0</td>\n",
       "      <td>0</td>\n",
       "    </tr>\n",
       "  </tbody>\n",
       "</table>\n",
       "<p>616323 rows × 33 columns</p>\n",
       "</div>"
      ],
      "text/plain": [
       "         Unnamed: 0            ts  id.orig_p  duration  orig_bytes  \\\n",
       "3                 3  1.525880e+09    34243.0  2.998804         0.0   \n",
       "4                 4  1.525880e+09    34840.0  0.000000         0.0   \n",
       "14               14  1.525880e+09    34243.0  0.000000         0.0   \n",
       "27               27  1.525880e+09    34243.0  0.000000         0.0   \n",
       "44               44  1.525880e+09    33685.0  2.998560         0.0   \n",
       "...             ...           ...        ...       ...         ...   \n",
       "1446616         122  1.562165e+09       68.0 -1.000000        -1.0   \n",
       "1446617         123  1.562165e+09      143.0 -1.000000        -1.0   \n",
       "1446618         124  1.562165e+09      135.0 -1.000000        -1.0   \n",
       "1446619         125  1.562165e+09      143.0 -1.000000        -1.0   \n",
       "1446620         126  1.562165e+09      133.0 -1.000000        -1.0   \n",
       "\n",
       "         resp_bytes  orig_pkts  orig_ip_bytes  resp_pkts  resp_ip_bytes  ...  \\\n",
       "3               0.0        3.0          180.0        0.0            0.0  ...   \n",
       "4               0.0        1.0           60.0        0.0            0.0  ...   \n",
       "14              0.0        1.0           60.0        0.0            0.0  ...   \n",
       "27              0.0        1.0           60.0        0.0            0.0  ...   \n",
       "44              0.0        3.0          180.0        0.0            0.0  ...   \n",
       "...             ...        ...            ...        ...            ...  ...   \n",
       "1446616        -1.0       11.0         3608.0        0.0            0.0  ...   \n",
       "1446617        -1.0        9.0          844.0        0.0            0.0  ...   \n",
       "1446618        -1.0        3.0          216.0        0.0            0.0  ...   \n",
       "1446619        -1.0        8.0          648.0        0.0            0.0  ...   \n",
       "1446620        -1.0        2.0           96.0        0.0            0.0  ...   \n",
       "\n",
       "         conn_state_SF  conn_state_SH  conn_state_SHR  service_-  \\\n",
       "3                    0              0               0          1   \n",
       "4                    0              0               0          1   \n",
       "14                   0              0               0          1   \n",
       "27                   0              0               0          1   \n",
       "44                   0              0               0          1   \n",
       "...                ...            ...             ...        ...   \n",
       "1446616              0              0               0          0   \n",
       "1446617              0              0               0          1   \n",
       "1446618              0              0               0          1   \n",
       "1446619              0              0               0          1   \n",
       "1446620              0              0               0          1   \n",
       "\n",
       "         service_dhcp  service_dns  service_http  service_irc  service_ssh  \\\n",
       "3                   0            0             0            0            0   \n",
       "4                   0            0             0            0            0   \n",
       "14                  0            0             0            0            0   \n",
       "27                  0            0             0            0            0   \n",
       "44                  0            0             0            0            0   \n",
       "...               ...          ...           ...          ...          ...   \n",
       "1446616             1            0             0            0            0   \n",
       "1446617             0            0             0            0            0   \n",
       "1446618             0            0             0            0            0   \n",
       "1446619             0            0             0            0            0   \n",
       "1446620             0            0             0            0            0   \n",
       "\n",
       "         service_ssl  \n",
       "3                  0  \n",
       "4                  0  \n",
       "14                 0  \n",
       "27                 0  \n",
       "44                 0  \n",
       "...              ...  \n",
       "1446616            0  \n",
       "1446617            0  \n",
       "1446618            0  \n",
       "1446619            0  \n",
       "1446620            0  \n",
       "\n",
       "[616323 rows x 33 columns]"
      ]
     },
     "execution_count": 60,
     "metadata": {},
     "output_type": "execute_result"
    }
   ],
   "source": [
    "X"
   ]
  },
  {
   "cell_type": "code",
   "execution_count": 13,
   "id": "green-schema",
   "metadata": {},
   "outputs": [
    {
     "data": {
      "text/html": [
       "<div>\n",
       "<style scoped>\n",
       "    .dataframe tbody tr th:only-of-type {\n",
       "        vertical-align: middle;\n",
       "    }\n",
       "\n",
       "    .dataframe tbody tr th {\n",
       "        vertical-align: top;\n",
       "    }\n",
       "\n",
       "    .dataframe thead th {\n",
       "        text-align: right;\n",
       "    }\n",
       "</style>\n",
       "<table border=\"1\" class=\"dataframe\">\n",
       "  <thead>\n",
       "    <tr style=\"text-align: right;\">\n",
       "      <th></th>\n",
       "      <th>Unnamed: 0</th>\n",
       "      <th>ts</th>\n",
       "      <th>id.orig_h</th>\n",
       "      <th>id.orig_p</th>\n",
       "      <th>id.resp_h</th>\n",
       "      <th>id.resp_p</th>\n",
       "      <th>duration</th>\n",
       "      <th>orig_bytes</th>\n",
       "      <th>resp_bytes</th>\n",
       "      <th>history</th>\n",
       "      <th>...</th>\n",
       "      <th>conn_state_SF</th>\n",
       "      <th>conn_state_SH</th>\n",
       "      <th>conn_state_SHR</th>\n",
       "      <th>service_-</th>\n",
       "      <th>service_dhcp</th>\n",
       "      <th>service_dns</th>\n",
       "      <th>service_http</th>\n",
       "      <th>service_irc</th>\n",
       "      <th>service_ssh</th>\n",
       "      <th>service_ssl</th>\n",
       "    </tr>\n",
       "  </thead>\n",
       "  <tbody>\n",
       "    <tr>\n",
       "      <th>3</th>\n",
       "      <td>3</td>\n",
       "      <td>1.525880e+09</td>\n",
       "      <td>192.168.100.103</td>\n",
       "      <td>34243.0</td>\n",
       "      <td>147.7.65.203</td>\n",
       "      <td>49560.0</td>\n",
       "      <td>2.998804</td>\n",
       "      <td>0.0</td>\n",
       "      <td>0.0</td>\n",
       "      <td>S</td>\n",
       "      <td>...</td>\n",
       "      <td>0</td>\n",
       "      <td>0</td>\n",
       "      <td>0</td>\n",
       "      <td>1</td>\n",
       "      <td>0</td>\n",
       "      <td>0</td>\n",
       "      <td>0</td>\n",
       "      <td>0</td>\n",
       "      <td>0</td>\n",
       "      <td>0</td>\n",
       "    </tr>\n",
       "    <tr>\n",
       "      <th>4</th>\n",
       "      <td>4</td>\n",
       "      <td>1.525880e+09</td>\n",
       "      <td>192.168.100.103</td>\n",
       "      <td>34840.0</td>\n",
       "      <td>145.164.35.6</td>\n",
       "      <td>21288.0</td>\n",
       "      <td>0.000000</td>\n",
       "      <td>0.0</td>\n",
       "      <td>0.0</td>\n",
       "      <td>S</td>\n",
       "      <td>...</td>\n",
       "      <td>0</td>\n",
       "      <td>0</td>\n",
       "      <td>0</td>\n",
       "      <td>1</td>\n",
       "      <td>0</td>\n",
       "      <td>0</td>\n",
       "      <td>0</td>\n",
       "      <td>0</td>\n",
       "      <td>0</td>\n",
       "      <td>0</td>\n",
       "    </tr>\n",
       "    <tr>\n",
       "      <th>14</th>\n",
       "      <td>14</td>\n",
       "      <td>1.525880e+09</td>\n",
       "      <td>192.168.100.103</td>\n",
       "      <td>34243.0</td>\n",
       "      <td>147.7.65.203</td>\n",
       "      <td>49560.0</td>\n",
       "      <td>0.000000</td>\n",
       "      <td>0.0</td>\n",
       "      <td>0.0</td>\n",
       "      <td>S</td>\n",
       "      <td>...</td>\n",
       "      <td>0</td>\n",
       "      <td>0</td>\n",
       "      <td>0</td>\n",
       "      <td>1</td>\n",
       "      <td>0</td>\n",
       "      <td>0</td>\n",
       "      <td>0</td>\n",
       "      <td>0</td>\n",
       "      <td>0</td>\n",
       "      <td>0</td>\n",
       "    </tr>\n",
       "    <tr>\n",
       "      <th>27</th>\n",
       "      <td>27</td>\n",
       "      <td>1.525880e+09</td>\n",
       "      <td>192.168.100.103</td>\n",
       "      <td>34243.0</td>\n",
       "      <td>147.7.65.203</td>\n",
       "      <td>49560.0</td>\n",
       "      <td>0.000000</td>\n",
       "      <td>0.0</td>\n",
       "      <td>0.0</td>\n",
       "      <td>S</td>\n",
       "      <td>...</td>\n",
       "      <td>0</td>\n",
       "      <td>0</td>\n",
       "      <td>0</td>\n",
       "      <td>1</td>\n",
       "      <td>0</td>\n",
       "      <td>0</td>\n",
       "      <td>0</td>\n",
       "      <td>0</td>\n",
       "      <td>0</td>\n",
       "      <td>0</td>\n",
       "    </tr>\n",
       "    <tr>\n",
       "      <th>44</th>\n",
       "      <td>44</td>\n",
       "      <td>1.525880e+09</td>\n",
       "      <td>192.168.100.103</td>\n",
       "      <td>33685.0</td>\n",
       "      <td>197.224.138.9</td>\n",
       "      <td>34797.0</td>\n",
       "      <td>2.998560</td>\n",
       "      <td>0.0</td>\n",
       "      <td>0.0</td>\n",
       "      <td>S</td>\n",
       "      <td>...</td>\n",
       "      <td>0</td>\n",
       "      <td>0</td>\n",
       "      <td>0</td>\n",
       "      <td>1</td>\n",
       "      <td>0</td>\n",
       "      <td>0</td>\n",
       "      <td>0</td>\n",
       "      <td>0</td>\n",
       "      <td>0</td>\n",
       "      <td>0</td>\n",
       "    </tr>\n",
       "    <tr>\n",
       "      <th>...</th>\n",
       "      <td>...</td>\n",
       "      <td>...</td>\n",
       "      <td>...</td>\n",
       "      <td>...</td>\n",
       "      <td>...</td>\n",
       "      <td>...</td>\n",
       "      <td>...</td>\n",
       "      <td>...</td>\n",
       "      <td>...</td>\n",
       "      <td>...</td>\n",
       "      <td>...</td>\n",
       "      <td>...</td>\n",
       "      <td>...</td>\n",
       "      <td>...</td>\n",
       "      <td>...</td>\n",
       "      <td>...</td>\n",
       "      <td>...</td>\n",
       "      <td>...</td>\n",
       "      <td>...</td>\n",
       "      <td>...</td>\n",
       "      <td>...</td>\n",
       "    </tr>\n",
       "    <tr>\n",
       "      <th>1446616</th>\n",
       "      <td>122</td>\n",
       "      <td>1.562165e+09</td>\n",
       "      <td>0.0.0.0</td>\n",
       "      <td>68.0</td>\n",
       "      <td>255.255.255.255</td>\n",
       "      <td>67.0</td>\n",
       "      <td>-1.000000</td>\n",
       "      <td>-1.0</td>\n",
       "      <td>-1.0</td>\n",
       "      <td>D</td>\n",
       "      <td>...</td>\n",
       "      <td>0</td>\n",
       "      <td>0</td>\n",
       "      <td>0</td>\n",
       "      <td>0</td>\n",
       "      <td>1</td>\n",
       "      <td>0</td>\n",
       "      <td>0</td>\n",
       "      <td>0</td>\n",
       "      <td>0</td>\n",
       "      <td>0</td>\n",
       "    </tr>\n",
       "    <tr>\n",
       "      <th>1446617</th>\n",
       "      <td>123</td>\n",
       "      <td>1.562165e+09</td>\n",
       "      <td>::</td>\n",
       "      <td>143.0</td>\n",
       "      <td>ff02::16</td>\n",
       "      <td>0.0</td>\n",
       "      <td>-1.000000</td>\n",
       "      <td>-1.0</td>\n",
       "      <td>-1.0</td>\n",
       "      <td>-</td>\n",
       "      <td>...</td>\n",
       "      <td>0</td>\n",
       "      <td>0</td>\n",
       "      <td>0</td>\n",
       "      <td>1</td>\n",
       "      <td>0</td>\n",
       "      <td>0</td>\n",
       "      <td>0</td>\n",
       "      <td>0</td>\n",
       "      <td>0</td>\n",
       "      <td>0</td>\n",
       "    </tr>\n",
       "    <tr>\n",
       "      <th>1446618</th>\n",
       "      <td>124</td>\n",
       "      <td>1.562165e+09</td>\n",
       "      <td>::</td>\n",
       "      <td>135.0</td>\n",
       "      <td>ff02::1:ffd5:cdf</td>\n",
       "      <td>136.0</td>\n",
       "      <td>-1.000000</td>\n",
       "      <td>-1.0</td>\n",
       "      <td>-1.0</td>\n",
       "      <td>-</td>\n",
       "      <td>...</td>\n",
       "      <td>0</td>\n",
       "      <td>0</td>\n",
       "      <td>0</td>\n",
       "      <td>1</td>\n",
       "      <td>0</td>\n",
       "      <td>0</td>\n",
       "      <td>0</td>\n",
       "      <td>0</td>\n",
       "      <td>0</td>\n",
       "      <td>0</td>\n",
       "    </tr>\n",
       "    <tr>\n",
       "      <th>1446619</th>\n",
       "      <td>125</td>\n",
       "      <td>1.562165e+09</td>\n",
       "      <td>fe80::5bcc:698e:39d5:cdf</td>\n",
       "      <td>143.0</td>\n",
       "      <td>ff02::16</td>\n",
       "      <td>0.0</td>\n",
       "      <td>-1.000000</td>\n",
       "      <td>-1.0</td>\n",
       "      <td>-1.0</td>\n",
       "      <td>-</td>\n",
       "      <td>...</td>\n",
       "      <td>0</td>\n",
       "      <td>0</td>\n",
       "      <td>0</td>\n",
       "      <td>1</td>\n",
       "      <td>0</td>\n",
       "      <td>0</td>\n",
       "      <td>0</td>\n",
       "      <td>0</td>\n",
       "      <td>0</td>\n",
       "      <td>0</td>\n",
       "    </tr>\n",
       "    <tr>\n",
       "      <th>1446620</th>\n",
       "      <td>126</td>\n",
       "      <td>1.562165e+09</td>\n",
       "      <td>fe80::5bcc:698e:39d5:cdf</td>\n",
       "      <td>133.0</td>\n",
       "      <td>ff02::2</td>\n",
       "      <td>134.0</td>\n",
       "      <td>-1.000000</td>\n",
       "      <td>-1.0</td>\n",
       "      <td>-1.0</td>\n",
       "      <td>-</td>\n",
       "      <td>...</td>\n",
       "      <td>0</td>\n",
       "      <td>0</td>\n",
       "      <td>0</td>\n",
       "      <td>1</td>\n",
       "      <td>0</td>\n",
       "      <td>0</td>\n",
       "      <td>0</td>\n",
       "      <td>0</td>\n",
       "      <td>0</td>\n",
       "      <td>0</td>\n",
       "    </tr>\n",
       "  </tbody>\n",
       "</table>\n",
       "<p>616323 rows × 38 columns</p>\n",
       "</div>"
      ],
      "text/plain": [
       "         Unnamed: 0            ts                 id.orig_h  id.orig_p  \\\n",
       "3                 3  1.525880e+09           192.168.100.103    34243.0   \n",
       "4                 4  1.525880e+09           192.168.100.103    34840.0   \n",
       "14               14  1.525880e+09           192.168.100.103    34243.0   \n",
       "27               27  1.525880e+09           192.168.100.103    34243.0   \n",
       "44               44  1.525880e+09           192.168.100.103    33685.0   \n",
       "...             ...           ...                       ...        ...   \n",
       "1446616         122  1.562165e+09                   0.0.0.0       68.0   \n",
       "1446617         123  1.562165e+09                        ::      143.0   \n",
       "1446618         124  1.562165e+09                        ::      135.0   \n",
       "1446619         125  1.562165e+09  fe80::5bcc:698e:39d5:cdf      143.0   \n",
       "1446620         126  1.562165e+09  fe80::5bcc:698e:39d5:cdf      133.0   \n",
       "\n",
       "                id.resp_h  id.resp_p  duration  orig_bytes  resp_bytes  \\\n",
       "3            147.7.65.203    49560.0  2.998804         0.0         0.0   \n",
       "4            145.164.35.6    21288.0  0.000000         0.0         0.0   \n",
       "14           147.7.65.203    49560.0  0.000000         0.0         0.0   \n",
       "27           147.7.65.203    49560.0  0.000000         0.0         0.0   \n",
       "44          197.224.138.9    34797.0  2.998560         0.0         0.0   \n",
       "...                   ...        ...       ...         ...         ...   \n",
       "1446616   255.255.255.255       67.0 -1.000000        -1.0        -1.0   \n",
       "1446617          ff02::16        0.0 -1.000000        -1.0        -1.0   \n",
       "1446618  ff02::1:ffd5:cdf      136.0 -1.000000        -1.0        -1.0   \n",
       "1446619          ff02::16        0.0 -1.000000        -1.0        -1.0   \n",
       "1446620           ff02::2      134.0 -1.000000        -1.0        -1.0   \n",
       "\n",
       "        history  ...  conn_state_SF  conn_state_SH  conn_state_SHR  service_-  \\\n",
       "3             S  ...              0              0               0          1   \n",
       "4             S  ...              0              0               0          1   \n",
       "14            S  ...              0              0               0          1   \n",
       "27            S  ...              0              0               0          1   \n",
       "44            S  ...              0              0               0          1   \n",
       "...         ...  ...            ...            ...             ...        ...   \n",
       "1446616       D  ...              0              0               0          0   \n",
       "1446617       -  ...              0              0               0          1   \n",
       "1446618       -  ...              0              0               0          1   \n",
       "1446619       -  ...              0              0               0          1   \n",
       "1446620       -  ...              0              0               0          1   \n",
       "\n",
       "        service_dhcp  service_dns  service_http  service_irc  service_ssh  \\\n",
       "3                  0            0             0            0            0   \n",
       "4                  0            0             0            0            0   \n",
       "14                 0            0             0            0            0   \n",
       "27                 0            0             0            0            0   \n",
       "44                 0            0             0            0            0   \n",
       "...              ...          ...           ...          ...          ...   \n",
       "1446616            1            0             0            0            0   \n",
       "1446617            0            0             0            0            0   \n",
       "1446618            0            0             0            0            0   \n",
       "1446619            0            0             0            0            0   \n",
       "1446620            0            0             0            0            0   \n",
       "\n",
       "         service_ssl  \n",
       "3                  0  \n",
       "4                  0  \n",
       "14                 0  \n",
       "27                 0  \n",
       "44                 0  \n",
       "...              ...  \n",
       "1446616            0  \n",
       "1446617            0  \n",
       "1446618            0  \n",
       "1446619            0  \n",
       "1446620            0  \n",
       "\n",
       "[616323 rows x 38 columns]"
      ]
     },
     "execution_count": 13,
     "metadata": {},
     "output_type": "execute_result"
    }
   ],
   "source": [
    "df"
   ]
  },
  {
   "cell_type": "code",
   "execution_count": 37,
   "id": "7bc05806",
   "metadata": {},
   "outputs": [],
   "source": [
    "# df_node = df[df['id.orig_h']=='192.168.100.111']\n",
    "# df_node.shape\n",
    "# df_node['label'].value_counts()\n"
   ]
  },
  {
   "cell_type": "code",
   "execution_count": 61,
   "id": "historic-generator",
   "metadata": {},
   "outputs": [],
   "source": [
    "scaler = MinMaxScaler()"
   ]
  },
  {
   "cell_type": "code",
   "execution_count": 62,
   "id": "approved-aircraft",
   "metadata": {},
   "outputs": [
    {
     "data": {
      "text/plain": [
       "MinMaxScaler()"
      ]
     },
     "execution_count": 62,
     "metadata": {},
     "output_type": "execute_result"
    }
   ],
   "source": [
    "scaler.fit(X)"
   ]
  },
  {
   "cell_type": "code",
   "execution_count": 63,
   "id": "fiscal-aluminum",
   "metadata": {},
   "outputs": [],
   "source": [
    "normalized_x = scaler.transform(X)"
   ]
  },
  {
   "cell_type": "code",
   "execution_count": 64,
   "id": "related-efficiency",
   "metadata": {},
   "outputs": [
    {
     "data": {
      "text/plain": [
       "array([[3.00006000e-05, 0.00000000e+00, 5.22522660e-01, ...,\n",
       "        0.00000000e+00, 0.00000000e+00, 0.00000000e+00],\n",
       "       [4.00008000e-05, 0.00000000e+00, 5.31632435e-01, ...,\n",
       "        0.00000000e+00, 0.00000000e+00, 0.00000000e+00],\n",
       "       [1.40002800e-04, 0.00000000e+00, 5.22522660e-01, ...,\n",
       "        0.00000000e+00, 0.00000000e+00, 0.00000000e+00],\n",
       "       ...,\n",
       "       [1.24002480e-03, 8.41127626e-01, 2.05999939e-03, ...,\n",
       "        0.00000000e+00, 0.00000000e+00, 0.00000000e+00],\n",
       "       [1.25002500e-03, 8.41127626e-01, 2.18207343e-03, ...,\n",
       "        0.00000000e+00, 0.00000000e+00, 0.00000000e+00],\n",
       "       [1.26002520e-03, 8.41127626e-01, 2.02948088e-03, ...,\n",
       "        0.00000000e+00, 0.00000000e+00, 0.00000000e+00]])"
      ]
     },
     "execution_count": 64,
     "metadata": {},
     "output_type": "execute_result"
    }
   ],
   "source": [
    "normalized_x"
   ]
  },
  {
   "cell_type": "code",
   "execution_count": 65,
   "id": "numeric-trainer",
   "metadata": {},
   "outputs": [
    {
     "data": {
      "text/plain": [
       "(616323, 33)"
      ]
     },
     "execution_count": 65,
     "metadata": {},
     "output_type": "execute_result"
    }
   ],
   "source": [
    "normalized_x.shape"
   ]
  },
  {
   "cell_type": "code",
   "execution_count": 66,
   "id": "legislative-jamaica",
   "metadata": {},
   "outputs": [
    {
     "data": {
      "text/plain": [
       "MinMaxScaler()"
      ]
     },
     "execution_count": 66,
     "metadata": {},
     "output_type": "execute_result"
    }
   ],
   "source": [
    "scaler.fit(Y)"
   ]
  },
  {
   "cell_type": "code",
   "execution_count": 67,
   "id": "strange-tobacco",
   "metadata": {},
   "outputs": [],
   "source": [
    "normalized_y = scaler.transform(Y)"
   ]
  },
  {
   "cell_type": "code",
   "execution_count": 68,
   "id": "quarterly-chile",
   "metadata": {},
   "outputs": [
    {
     "data": {
      "text/plain": [
       "array([[1., 0., 0., 0.],\n",
       "       [1., 0., 0., 0.],\n",
       "       [1., 0., 0., 0.],\n",
       "       ...,\n",
       "       [1., 0., 0., 0.],\n",
       "       [1., 0., 0., 0.],\n",
       "       [1., 0., 0., 0.]])"
      ]
     },
     "execution_count": 68,
     "metadata": {},
     "output_type": "execute_result"
    }
   ],
   "source": [
    "normalized_y"
   ]
  },
  {
   "cell_type": "code",
   "execution_count": 69,
   "id": "touched-tanzania",
   "metadata": {},
   "outputs": [],
   "source": [
    "#X_train, X_test, Y_train, Y_test = train_test_split(normalized_x, normalized_y, random_state=10, test_size=0.2)\n",
    "X_train, X_test, Y_train, Y_test = train_test_split(normalized_x, normalized_y, test_size = .2, random_state=42)"
   ]
  },
  {
   "cell_type": "code",
   "execution_count": 70,
   "id": "lightweight-trail",
   "metadata": {},
   "outputs": [
    {
     "data": {
      "text/plain": [
       "(493058, 33)"
      ]
     },
     "execution_count": 70,
     "metadata": {},
     "output_type": "execute_result"
    }
   ],
   "source": [
    "X_train.shape"
   ]
  },
  {
   "cell_type": "code",
   "execution_count": null,
   "id": "tribal-error",
   "metadata": {},
   "outputs": [],
   "source": []
  },
  {
   "cell_type": "code",
   "execution_count": 71,
   "id": "worst-restriction",
   "metadata": {},
   "outputs": [],
   "source": [
    "model = Sequential()"
   ]
  },
  {
   "cell_type": "code",
   "execution_count": 19,
   "id": "earned-advertiser",
   "metadata": {},
   "outputs": [],
   "source": [
    "model.add(Dense(2000, activation='relu',input_dim=X_train.shape[1]))\n",
    "model.add(Dense(1500, activation='relu'))\n",
    "model.add(Dropout(0.2))\n",
    "model.add(Dense(800,activation='relu'))\n",
    "model.add(Dropout(0.2))\n",
    "model.add(Dense(400,activation='relu'))\n",
    "model.add(Dropout(0.2))\n",
    "model.add(Dense(150,activation='relu'))\n",
    "model.add(Dropout(0.2))\n",
    "model.add(Dense(Y_train.shape[1], activation='softmax'))\n",
    "model.compile(loss='categorical_crossentropy', optimizer='adam', metrics=['accuracy'])\n"
   ]
  },
  {
   "cell_type": "code",
   "execution_count": 35,
   "id": "9c31c31b",
   "metadata": {},
   "outputs": [
    {
     "data": {
      "text/plain": [
       "35"
      ]
     },
     "execution_count": 35,
     "metadata": {},
     "output_type": "execute_result"
    }
   ],
   "source": [
    "X_train.shape[1]\n"
   ]
  },
  {
   "cell_type": "code",
   "execution_count": 36,
   "id": "f1081422",
   "metadata": {},
   "outputs": [
    {
     "data": {
      "text/plain": [
       "4"
      ]
     },
     "execution_count": 36,
     "metadata": {},
     "output_type": "execute_result"
    }
   ],
   "source": [
    "Y_train.shape[1]"
   ]
  },
  {
   "cell_type": "code",
   "execution_count": 72,
   "id": "bf7e679c",
   "metadata": {},
   "outputs": [],
   "source": [
    "model.add(Dense(64, activation='relu',input_dim=33))\n",
    "model.add(Dense(64, activation='relu'))\n",
    "model.add(Dense(4, activation='softmax'))\n",
    "model.compile(loss='categorical_crossentropy', optimizer='adam', metrics=['accuracy'])\n"
   ]
  },
  {
   "cell_type": "code",
   "execution_count": 73,
   "id": "specified-duplicate",
   "metadata": {},
   "outputs": [
    {
     "name": "stdout",
     "output_type": "stream",
     "text": [
      "Model: \"sequential_4\"\n",
      "_________________________________________________________________\n",
      " Layer (type)                Output Shape              Param #   \n",
      "=================================================================\n",
      " dense_15 (Dense)            (None, 64)                2176      \n",
      "                                                                 \n",
      " dense_16 (Dense)            (None, 64)                4160      \n",
      "                                                                 \n",
      " dense_17 (Dense)            (None, 4)                 260       \n",
      "                                                                 \n",
      "=================================================================\n",
      "Total params: 6,596\n",
      "Trainable params: 6,596\n",
      "Non-trainable params: 0\n",
      "_________________________________________________________________\n"
     ]
    }
   ],
   "source": [
    "model.summary()"
   ]
  },
  {
   "cell_type": "code",
   "execution_count": 160,
   "id": "recognized-sunset",
   "metadata": {},
   "outputs": [],
   "source": [
    "import time"
   ]
  },
  {
   "cell_type": "code",
   "execution_count": 39,
   "id": "09778ef3",
   "metadata": {},
   "outputs": [
    {
     "data": {
      "text/plain": [
       "(123265, 4)"
      ]
     },
     "execution_count": 39,
     "metadata": {},
     "output_type": "execute_result"
    }
   ],
   "source": [
    "Y_test.shape"
   ]
  },
  {
   "cell_type": "code",
   "execution_count": 74,
   "id": "0f5ad94e",
   "metadata": {},
   "outputs": [
    {
     "name": "stdout",
     "output_type": "stream",
     "text": [
      "Epoch 1/10\n",
      "1927/1927 [==============================] - 9s 4ms/step - loss: 0.3395 - accuracy: 0.8721 - val_loss: 0.2694 - val_accuracy: 0.8884\n",
      "Epoch 2/10\n",
      "1927/1927 [==============================] - 7s 3ms/step - loss: 0.2463 - accuracy: 0.8959 - val_loss: 0.2419 - val_accuracy: 0.8796\n",
      "Epoch 3/10\n",
      "1927/1927 [==============================] - 7s 4ms/step - loss: 0.2274 - accuracy: 0.9084 - val_loss: 0.2184 - val_accuracy: 0.9331\n",
      "Epoch 4/10\n",
      "1927/1927 [==============================] - 7s 3ms/step - loss: 0.2132 - accuracy: 0.9189 - val_loss: 0.2232 - val_accuracy: 0.9123\n",
      "Epoch 5/10\n",
      "1927/1927 [==============================] - 8s 4ms/step - loss: 0.1991 - accuracy: 0.9254 - val_loss: 0.2048 - val_accuracy: 0.9005\n",
      "Epoch 6/10\n",
      "1927/1927 [==============================] - 7s 4ms/step - loss: 0.1819 - accuracy: 0.9339 - val_loss: 0.2430 - val_accuracy: 0.8663\n",
      "Epoch 7/10\n",
      "1927/1927 [==============================] - 8s 4ms/step - loss: 0.1661 - accuracy: 0.9431 - val_loss: 0.1565 - val_accuracy: 0.9452\n",
      "Epoch 8/10\n",
      "1927/1927 [==============================] - 8s 4ms/step - loss: 0.1527 - accuracy: 0.9475 - val_loss: 0.1492 - val_accuracy: 0.9505\n",
      "Epoch 9/10\n",
      "1927/1927 [==============================] - 9s 5ms/step - loss: 0.1433 - accuracy: 0.9495 - val_loss: 0.1578 - val_accuracy: 0.9552\n",
      "Epoch 10/10\n",
      "1927/1927 [==============================] - 7s 4ms/step - loss: 0.1366 - accuracy: 0.9509 - val_loss: 0.1451 - val_accuracy: 0.9479\n"
     ]
    },
    {
     "data": {
      "text/plain": [
       "<keras.callbacks.History at 0x1fbf0e5f310>"
      ]
     },
     "execution_count": 74,
     "metadata": {},
     "output_type": "execute_result"
    }
   ],
   "source": [
    "# start = time.time()\n",
    "# print('program start...')\n",
    "# print()\n",
    "\n",
    "model.fit(X_train, Y_train, epochs = 10, batch_size=256, validation_data=(X_test,Y_test),verbose=1)\n",
    "\n",
    "# print()\n",
    "# end = time.time()\n",
    "# print('program end...')\n",
    "# print()\n",
    "# print('time cost: ')\n",
    "# print(end - start, 'seconds')"
   ]
  },
  {
   "cell_type": "code",
   "execution_count": 75,
   "id": "proper-payroll",
   "metadata": {},
   "outputs": [
    {
     "name": "stdout",
     "output_type": "stream",
     "text": [
      "              precision    recall  f1-score   support\n",
      "\n",
      "           0       0.93      0.91      0.92     39812\n",
      "           1       0.91      0.91      0.91      3016\n",
      "           2       1.00      1.00      1.00     28013\n",
      "           3       0.94      0.95      0.94     52424\n",
      "\n",
      "    accuracy                           0.95    123265\n",
      "   macro avg       0.94      0.94      0.94    123265\n",
      "weighted avg       0.95      0.95      0.95    123265\n",
      "\n"
     ]
    }
   ],
   "source": [
    "from sklearn.metrics import classification_report\n",
    "a = np.argmax(Y_test, axis=1)\n",
    "b = np.argmax(model.predict(X_test), axis=1)\n",
    "print(classification_report(a, b))"
   ]
  },
  {
   "cell_type": "code",
   "execution_count": 76,
   "id": "removable-differential",
   "metadata": {},
   "outputs": [
    {
     "data": {
      "text/plain": [
       "0.9479089765951405"
      ]
     },
     "execution_count": 76,
     "metadata": {},
     "output_type": "execute_result"
    }
   ],
   "source": [
    "preds = np.argmax(model.predict(X_test), axis = 1)\n",
    "num_correct = 0\n",
    "\n",
    "for i in range(0, len(preds)):\n",
    "    if preds[i] == np.argmax(Y_test[i]):\n",
    "        num_correct+=1\n",
    "\n",
    "num_correct/len(preds)"
   ]
  },
  {
   "cell_type": "code",
   "execution_count": null,
   "id": "comic-freedom",
   "metadata": {},
   "outputs": [],
   "source": []
  },
  {
   "cell_type": "code",
   "execution_count": null,
   "id": "exceptional-yacht",
   "metadata": {},
   "outputs": [],
   "source": []
  },
  {
   "cell_type": "code",
   "execution_count": null,
   "id": "speaking-formation",
   "metadata": {},
   "outputs": [],
   "source": []
  },
  {
   "cell_type": "code",
   "execution_count": null,
   "id": "complex-prerequisite",
   "metadata": {},
   "outputs": [],
   "source": []
  },
  {
   "cell_type": "code",
   "execution_count": null,
   "id": "comparable-recycling",
   "metadata": {},
   "outputs": [],
   "source": []
  },
  {
   "cell_type": "code",
   "execution_count": null,
   "id": "creative-treasurer",
   "metadata": {},
   "outputs": [],
   "source": []
  },
  {
   "cell_type": "code",
   "execution_count": null,
   "id": "incident-humanity",
   "metadata": {},
   "outputs": [],
   "source": []
  },
  {
   "cell_type": "code",
   "execution_count": null,
   "id": "commercial-colony",
   "metadata": {},
   "outputs": [],
   "source": []
  }
 ],
 "metadata": {
  "kernelspec": {
   "display_name": "Python 3",
   "language": "python",
   "name": "python3"
  },
  "language_info": {
   "codemirror_mode": {
    "name": "ipython",
    "version": 3
   },
   "file_extension": ".py",
   "mimetype": "text/x-python",
   "name": "python",
   "nbconvert_exporter": "python",
   "pygments_lexer": "ipython3",
   "version": "3.9.7"
  }
 },
 "nbformat": 4,
 "nbformat_minor": 5
}
